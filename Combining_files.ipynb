{
 "cells": [
  {
   "cell_type": "markdown",
   "id": "b443133b",
   "metadata": {},
   "source": [
    "# How to combine multiple CSV files\n",
    "\n",
    "SOURCE: based on the article by Ekapope Viriyakovithya on FreeCodeCamp website:\n",
    "https://www.freecodecamp.org/news/how-to-combine-multiple-csv-files-with-8-lines-of-code-265183e0854/\n",
    "\n",
    "Copy-pasting multiple files into one file can be not only tedious but also potentially dangerous as the likelihood of human error increases the more we manipulate data.  "
   ]
  },
  {
   "cell_type": "code",
   "execution_count": 1,
   "id": "fff94b28",
   "metadata": {},
   "outputs": [],
   "source": [
    "# Import packages\n",
    "import os\n",
    "import glob\n",
    "import pandas as pd"
   ]
  },
  {
   "cell_type": "code",
   "execution_count": 2,
   "id": "82886de0",
   "metadata": {},
   "outputs": [
    {
     "data": {
      "text/plain": [
       "'C:\\\\Users\\\\vasae\\\\Documents\\\\Data'"
      ]
     },
     "execution_count": 2,
     "metadata": {},
     "output_type": "execute_result"
    }
   ],
   "source": [
    "# Check the working directory\n",
    "os. getcwd()\n",
    "\n",
    "# If needed, use the following to change the working directory\n",
    "# os.chdir(\"/mydir\")"
   ]
  },
  {
   "cell_type": "code",
   "execution_count": 3,
   "id": "f4acb128",
   "metadata": {},
   "outputs": [],
   "source": [
    "# Use glob to match the file extension (in my case ‘txt’) and save the list of file names in a variable\n",
    "extension = 'txt'\n",
    "all_filenames = [i for i in glob.glob('*.{}'.format(extension))]"
   ]
  },
  {
   "cell_type": "code",
   "execution_count": 4,
   "id": "9040d5b1",
   "metadata": {},
   "outputs": [],
   "source": [
    "# Combine all files in the list and export as CSV\n",
    "\n",
    "#combine all files in the list\n",
    "combined_csv = pd.concat([pd.read_csv(f) for f in all_filenames ])\n",
    "#export to csv\n",
    "combined_csv.to_csv( \"combined_csv.csv\", index=False, encoding='utf-8-sig')"
   ]
  },
  {
   "cell_type": "code",
   "execution_count": null,
   "id": "0bf7e698",
   "metadata": {},
   "outputs": [],
   "source": []
  }
 ],
 "metadata": {
  "kernelspec": {
   "display_name": "Python 3",
   "language": "python",
   "name": "python3"
  },
  "language_info": {
   "codemirror_mode": {
    "name": "ipython",
    "version": 3
   },
   "file_extension": ".py",
   "mimetype": "text/x-python",
   "name": "python",
   "nbconvert_exporter": "python",
   "pygments_lexer": "ipython3",
   "version": "3.8.8"
  }
 },
 "nbformat": 4,
 "nbformat_minor": 5
}
