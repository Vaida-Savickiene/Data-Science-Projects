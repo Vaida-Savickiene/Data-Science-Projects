{
  "nbformat": 4,
  "nbformat_minor": 0,
  "metadata": {
    "colab": {
      "name": "VaidaSav CS9 - LinReg in R vs Python V2.ipynb",
      "provenance": [],
      "collapsed_sections": [],
      "toc_visible": true,
      "authorship_tag": "ABX9TyNflI/M3L3B1IssBUMUs6Pb",
      "include_colab_link": true
    },
    "kernelspec": {
      "name": "python3",
      "display_name": "Python 3"
    },
    "language_info": {
      "name": "python"
    }
  },
  "cells": [
    {
      "cell_type": "markdown",
      "metadata": {
        "id": "view-in-github",
        "colab_type": "text"
      },
      "source": [
        "<a href=\"https://colab.research.google.com/github/Vaida-Savickiene/Data-Science-Projects/blob/main/VaidaSav_CS9_LinReg_in_R_vs_Python_V2.ipynb\" target=\"_parent\"><img src=\"https://colab.research.google.com/assets/colab-badge.svg\" alt=\"Open In Colab\"/></a>"
      ]
    },
    {
      "cell_type": "markdown",
      "source": [
        "# Intro\n",
        "\n",
        "I created linear regression models in Python for my porfolio project. For this objective, I replicated the same models in R using Google Colab solution as it can run both R and Python scripts and includes Markdown which I used for comparing model outputs between R and Python."
      ],
      "metadata": {
        "id": "cqc-1cICJIDY"
      }
    },
    {
      "cell_type": "markdown",
      "source": [
        "# How to use R in Google Colab\n",
        "\n",
        "*rpy2* can be used to add everything R can offer to Python notebooks. This method allows to execute R and Python syntax together. (Need to use %%R as line 1 to execute cell magic)"
      ],
      "metadata": {
        "id": "szWIe_muHgM2"
      }
    },
    {
      "cell_type": "code",
      "execution_count": 45,
      "metadata": {
        "id": "iVTZdFAJHeAL",
        "colab": {
          "base_uri": "https://localhost:8080/"
        },
        "outputId": "454ca18a-de16-47e3-d7b5-cc051a5ed797"
      },
      "outputs": [
        {
          "output_type": "stream",
          "name": "stdout",
          "text": [
            "The rpy2.ipython extension is already loaded. To reload it, use:\n",
            "  %reload_ext rpy2.ipython\n"
          ]
        }
      ],
      "source": [
        "%load_ext rpy2.ipython"
      ]
    },
    {
      "cell_type": "code",
      "source": [
        "# used for controling the display of output\n",
        "from functools import partial\n",
        "from rpy2.ipython import html\n",
        "html.html_rdataframe=partial(html.html_rdataframe, table_class=\"docutils\")"
      ],
      "metadata": {
        "id": "U-y8GrLz2wsI"
      },
      "execution_count": 46,
      "outputs": []
    },
    {
      "cell_type": "code",
      "source": [
        "from rpy2.robjects.packages import importr\n",
        "utils = importr('utils')"
      ],
      "metadata": {
        "id": "K0uFW3a521l5"
      },
      "execution_count": 47,
      "outputs": []
    },
    {
      "cell_type": "markdown",
      "source": [
        "# Preparing Data in R\n"
      ],
      "metadata": {
        "id": "pfhXpf_NIpt9"
      }
    },
    {
      "cell_type": "code",
      "source": [
        "# Reading in data in R\n",
        "%%R\n",
        "sales <- read.csv('/content/Lin_Reg_Fencing_Sales_vs_Weather.csv')"
      ],
      "metadata": {
        "id": "g5UsAjuLIpaj"
      },
      "execution_count": 48,
      "outputs": []
    },
    {
      "cell_type": "code",
      "source": [
        "# Checking the number of fields match\n",
        "%%R\n",
        "ncol(sales)"
      ],
      "metadata": {
        "colab": {
          "base_uri": "https://localhost:8080/"
        },
        "id": "f5UqQAAIuKoT",
        "outputId": "a4ecffde-7484-4af4-d5a1-b7d0915d0391"
      },
      "execution_count": 49,
      "outputs": [
        {
          "output_type": "stream",
          "name": "stdout",
          "text": [
            "[1] 34\n"
          ]
        }
      ]
    },
    {
      "cell_type": "code",
      "source": [
        "# First 5 rows of data\n",
        "%%R \n",
        "head(sales)"
      ],
      "metadata": {
        "colab": {
          "base_uri": "https://localhost:8080/"
        },
        "id": "__MBOw--pMzj",
        "outputId": "0febf79f-225b-4f5d-b002-d830fa6935a5"
      },
      "execution_count": 50,
      "outputs": [
        {
          "output_type": "stream",
          "name": "stdout",
          "text": [
            "  Week_Commencing Min_High_wind_gust_mph Ave_High_wind_gust_mph\n",
            "1      01/01/2018                   27.1                  38.33\n",
            "2      08/01/2018                   11.4                  18.10\n",
            "3      15/01/2018                    9.6                  30.00\n",
            "4      22/01/2018                   23.9                  31.10\n",
            "5      29/01/2018                   19.0                  28.96\n",
            "6      05/02/2018                   15.0                  29.14\n",
            "  Max_High_wind_gust_mph Sum_High_wind_gust_mph Min_Min_temp_C Ave_Min_temp_C\n",
            "1                   49.0                  268.3           -1.0           2.10\n",
            "2                   33.8                  126.7            0.8           2.73\n",
            "3                   62.0                  210.0           -0.8           0.96\n",
            "4                   42.3                  217.7            0.0           4.90\n",
            "5                   34.0                  202.7           -1.0           0.96\n",
            "6                   45.6                  204.0           -2.7          -0.53\n",
            "  Max_Min_temp_C Sum_Min_temp_C Min_Max_temp_C Ave_Max_temp_C Max_Max_temp_C\n",
            "1            5.2           14.7            4.4           7.96           11.3\n",
            "2            4.8           19.1            3.2           6.64            8.9\n",
            "3            3.0            6.7            2.7           7.47           10.8\n",
            "4            9.0           34.3            6.5          11.10           14.1\n",
            "5            2.7            6.7            3.4           6.81           11.3\n",
            "6            2.0           -3.7            2.7           5.41            9.5\n",
            "  Sum_Max_temp_C Min_Max_rainfall_rate_mm_hr Ave_Max_rainfall_rate_mm_hr\n",
            "1           55.7                           0                        3.60\n",
            "2           46.5                           0                        1.89\n",
            "3           52.3                           0                        3.77\n",
            "4           77.7                           0                        4.80\n",
            "5           47.7                           0                        1.89\n",
            "6           37.9                           0                        1.37\n",
            "  Max_Max_rainfall_rate_mm_hr Sum_Max_rainfall_rate_mm_hr Min_Total_rainfall_mm\n",
            "1                         8.4                        25.2                     0\n",
            "2                         6.0                        13.2                     0\n",
            "3                        12.0                        26.4                     0\n",
            "4                        25.2                        33.6                     0\n",
            "5                         6.0                        13.2                     0\n",
            "6                         3.6                         9.6                     0\n",
            "  Ave_Total_rainfall_mm Max_Total_rainfall_mm Sum_Total_rainfall_mm\n",
            "1                  1.89                   6.4                  13.2\n",
            "2                  1.11                   4.4                   7.8\n",
            "3                  2.83                   9.8                  19.8\n",
            "4                  1.37                   6.5                   9.6\n",
            "5                  1.01                   3.1                   7.1\n",
            "6                  0.90                   4.3                   6.3\n",
            "  Min_Avg_temp_C Ave_Avg_temp_C Max_Avg_temp_C Sum_Avg_temp_C\n",
            "1            1.4           4.66            7.4           32.6\n",
            "2            2.3           4.51            5.6           31.6\n",
            "3            1.0           3.73            6.2           26.1\n",
            "4            4.0           7.60           11.0           53.2\n",
            "5            2.0           3.79            6.0           26.5\n",
            "6            0.4           2.39            5.9           16.7\n",
            "  Min_High_avg_wind_speed_mph Ave_High_avg_wind_speed_mph\n",
            "1                        16.7                       21.10\n",
            "2                         7.0                       10.77\n",
            "3                         5.5                       16.66\n",
            "4                        12.4                       19.81\n",
            "5                        11.5                       17.84\n",
            "6                         9.4                       16.71\n",
            "  Max_High_avg_wind_speed_mph Sum_High_avg_wind_speed_mph\n",
            "1                        25.0                       147.7\n",
            "2                        19.7                        75.4\n",
            "3                        34.5                       116.6\n",
            "4                        29.7                       138.7\n",
            "5                        20.6                       124.9\n",
            "6                        26.9                       117.0\n",
            "  Min_Total_sunshine_hrs Ave_Total_sunshine_hrs Max_Total_sunshine_hrs\n",
            "1                      0                   1.74                    7.8\n",
            "2                      0                   0.07                    0.5\n",
            "3                      0                   3.67                    7.3\n",
            "4                      0                   2.09                    6.2\n",
            "5                      0                   2.54                    5.0\n",
            "6                      0                   3.17                    7.0\n",
            "  Sum_Total_sunshine_hrs Fencing_Sales\n",
            "1                   12.2       4457.67\n",
            "2                    0.5       7254.43\n",
            "3                   25.7      11405.81\n",
            "4                   14.6       9439.66\n",
            "5                   17.8      16618.45\n",
            "6                   22.2      12222.69\n"
          ]
        }
      ]
    },
    {
      "cell_type": "code",
      "source": [
        "%%R \n",
        "summary(sales)"
      ],
      "metadata": {
        "colab": {
          "base_uri": "https://localhost:8080/"
        },
        "id": "nyJzzXVVo4N3",
        "outputId": "49d4bbcf-ed38-4cae-f9cd-2c2609c4f1e8"
      },
      "execution_count": 51,
      "outputs": [
        {
          "output_type": "stream",
          "name": "stdout",
          "text": [
            " Week_Commencing    Min_High_wind_gust_mph Ave_High_wind_gust_mph\n",
            " Length:214         Min.   : 0.00          Min.   : 6.80         \n",
            " Class :character   1st Qu.: 6.30          1st Qu.:16.24         \n",
            " Mode  :character   Median :10.20          Median :19.89         \n",
            "                    Mean   :11.14          Mean   :20.52         \n",
            "                    3rd Qu.:14.95          3rd Qu.:24.11         \n",
            "                    Max.   :37.60          Max.   :42.56         \n",
            " Max_High_wind_gust_mph Sum_High_wind_gust_mph Min_Min_temp_C  \n",
            " Min.   : 9.80          Min.   : 47.6          Min.   :-7.200  \n",
            " 1st Qu.:23.75          1st Qu.:113.7          1st Qu.:-0.075  \n",
            " Median :29.30          Median :138.5          Median : 2.800  \n",
            " Mean   :30.88          Mean   :143.2          Mean   : 3.721  \n",
            " 3rd Qu.:36.90          3rd Qu.:168.2          3rd Qu.: 7.750  \n",
            " Max.   :68.00          Max.   :297.9          Max.   :14.400  \n",
            " Ave_Min_temp_C   Max_Min_temp_C   Sum_Min_temp_C   Min_Max_temp_C  \n",
            " Min.   :-3.130   Min.   :-0.400   Min.   :-21.90   Min.   :-1.800  \n",
            " 1st Qu.: 3.132   1st Qu.: 6.600   1st Qu.: 21.93   1st Qu.: 6.725  \n",
            " Median : 5.920   Median : 9.250   Median : 41.15   Median :10.400  \n",
            " Mean   : 6.652   Mean   : 9.785   Mean   : 46.30   Mean   :11.195  \n",
            " 3rd Qu.:10.738   3rd Qu.:13.600   3rd Qu.: 74.55   3rd Qu.:16.075  \n",
            " Max.   :16.440   Max.   :19.500   Max.   :115.10   Max.   :25.100  \n",
            " Ave_Max_temp_C   Max_Max_temp_C  Sum_Max_temp_C   Min_Max_rainfall_rate_mm_hr\n",
            " Min.   : 1.590   Min.   : 4.90   Min.   : 11.10   Min.   :0.0000             \n",
            " 1st Qu.: 9.562   1st Qu.:12.90   1st Qu.: 66.92   1st Qu.:0.0000             \n",
            " Median :13.445   Median :16.40   Median : 93.25   Median :0.0000             \n",
            " Mean   :14.456   Mean   :17.88   Mean   :100.85   Mean   :0.1178             \n",
            " 3rd Qu.:19.683   3rd Qu.:23.60   3rd Qu.:137.78   3rd Qu.:0.0000             \n",
            " Max.   :27.200   Max.   :36.10   Max.   :190.40   Max.   :4.8000             \n",
            " Ave_Max_rainfall_rate_mm_hr Max_Max_rainfall_rate_mm_hr\n",
            " Min.   : 0.000              Min.   :  0.00             \n",
            " 1st Qu.: 0.815              1st Qu.:  2.40             \n",
            " Median : 2.060              Median :  6.00             \n",
            " Mean   : 2.770              Mean   : 10.36             \n",
            " 3rd Qu.: 3.770              3rd Qu.: 13.20             \n",
            " Max.   :23.000              Max.   :111.80             \n",
            " Sum_Max_rainfall_rate_mm_hr Min_Total_rainfall_mm Ave_Total_rainfall_mm\n",
            " Min.   :  0.00              Min.   :0.00000       Min.   :0.0000       \n",
            " 1st Qu.:  5.10              1st Qu.:0.00000       1st Qu.:0.2325       \n",
            " Median : 14.40              Median :0.00000       Median :1.0050       \n",
            " Mean   : 19.31              Mean   :0.04206       Mean   :1.5409       \n",
            " 3rd Qu.: 26.40              3rd Qu.:0.00000       3rd Qu.:2.2750       \n",
            " Max.   :161.00              Max.   :2.30000       Max.   :9.0600       \n",
            " Max_Total_rainfall_mm Sum_Total_rainfall_mm Min_Avg_temp_C   Ave_Avg_temp_C  \n",
            " Min.   : 0.00         Min.   : 0.000        Min.   :-4.900   Min.   :-1.140  \n",
            " 1st Qu.: 1.20         1st Qu.: 1.625        1st Qu.: 3.700   1st Qu.: 6.245  \n",
            " Median : 4.30         Median : 6.950        Median : 6.450   Median : 9.195  \n",
            " Mean   : 5.82         Mean   :10.759        Mean   : 7.546   Mean   :10.307  \n",
            " 3rd Qu.: 8.50         3rd Qu.:15.900        3rd Qu.:11.975   3rd Qu.:15.053  \n",
            " Max.   :31.70         Max.   :63.400        Max.   :18.000   Max.   :20.860  \n",
            " Max_Avg_temp_C   Sum_Avg_temp_C   Min_High_avg_wind_speed_mph\n",
            " Min.   : 2.900   Min.   : -8.00   Min.   : 0.000             \n",
            " 1st Qu.: 9.325   1st Qu.: 43.73   1st Qu.: 1.700             \n",
            " Median :12.050   Median : 64.20   Median : 3.400             \n",
            " Mean   :13.309   Mean   : 71.90   Mean   : 4.123             \n",
            " 3rd Qu.:17.875   3rd Qu.:104.38   3rd Qu.: 5.900             \n",
            " Max.   :27.200   Max.   :146.00   Max.   :18.400             \n",
            " Ave_High_avg_wind_speed_mph Max_High_avg_wind_speed_mph\n",
            " Min.   : 2.960              Min.   : 4.10              \n",
            " 1st Qu.: 5.978              1st Qu.:10.50              \n",
            " Median : 8.750              Median :14.80              \n",
            " Mean   : 9.393              Mean   :15.44              \n",
            " 3rd Qu.:11.775              3rd Qu.:19.12              \n",
            " Max.   :23.470              Max.   :39.60              \n",
            " Sum_High_avg_wind_speed_mph Min_Total_sunshine_hrs Ave_Total_sunshine_hrs\n",
            " Min.   : 20.70              Min.   : 0.000         Min.   : 0.010        \n",
            " 1st Qu.: 41.85              1st Qu.: 0.000         1st Qu.: 1.893        \n",
            " Median : 61.25              Median : 0.000         Median : 3.155        \n",
            " Mean   : 65.56              Mean   : 0.472         Mean   : 3.922        \n",
            " 3rd Qu.: 82.42              3rd Qu.: 0.000         3rd Qu.: 5.105        \n",
            " Max.   :164.30              Max.   :12.800         Max.   :14.510        \n",
            " Max_Total_sunshine_hrs Sum_Total_sunshine_hrs Fencing_Sales    \n",
            " Min.   : 0.100         Min.   :  0.10         Min.   :  367.4  \n",
            " 1st Qu.: 5.900         1st Qu.: 12.68         1st Qu.:11212.9  \n",
            " Median : 7.900         Median : 21.90         Median :16587.6  \n",
            " Mean   : 8.799         Mean   : 27.40         Mean   :17236.4  \n",
            " 3rd Qu.:12.075         3rd Qu.: 35.75         3rd Qu.:21885.1  \n",
            " Max.   :17.700         Max.   :101.60         Max.   :42540.3  \n"
          ]
        }
      ]
    },
    {
      "cell_type": "code",
      "source": [
        "# checking correlations between a few fields because the full output is not required for the purpose of this objective\n",
        "%%R\n",
        "\n",
        "my_data <- sales[, c(2,3,4,5,6,7,8,9,10,34)]"
      ],
      "metadata": {
        "id": "DOcFFvlahTdc"
      },
      "execution_count": 52,
      "outputs": []
    },
    {
      "cell_type": "code",
      "source": [
        "%%R \n",
        "res <- round(cor(my_data),2)\n",
        "res"
      ],
      "metadata": {
        "colab": {
          "base_uri": "https://localhost:8080/"
        },
        "id": "AFOcYwaNibTC",
        "outputId": "4f66aef2-1f2f-46ed-9fe5-12ae392efa1c"
      },
      "execution_count": 53,
      "outputs": [
        {
          "output_type": "stream",
          "name": "stdout",
          "text": [
            "                       Min_High_wind_gust_mph Ave_High_wind_gust_mph\n",
            "Min_High_wind_gust_mph                   1.00                   0.79\n",
            "Ave_High_wind_gust_mph                   0.79                   1.00\n",
            "Max_High_wind_gust_mph                   0.46                   0.84\n",
            "Sum_High_wind_gust_mph                   0.79                   1.00\n",
            "Min_Min_temp_C                          -0.05                  -0.24\n",
            "Ave_Min_temp_C                          -0.08                  -0.25\n",
            "Max_Min_temp_C                          -0.07                  -0.21\n",
            "Sum_Min_temp_C                          -0.08                  -0.26\n",
            "Min_Max_temp_C                          -0.09                  -0.29\n",
            "Fencing_Sales                           -0.14                  -0.22\n",
            "                       Max_High_wind_gust_mph Sum_High_wind_gust_mph\n",
            "Min_High_wind_gust_mph                   0.46                   0.79\n",
            "Ave_High_wind_gust_mph                   0.84                   1.00\n",
            "Max_High_wind_gust_mph                   1.00                   0.84\n",
            "Sum_High_wind_gust_mph                   0.84                   1.00\n",
            "Min_Min_temp_C                          -0.32                  -0.25\n",
            "Ave_Min_temp_C                          -0.32                  -0.26\n",
            "Max_Min_temp_C                          -0.27                  -0.22\n",
            "Sum_Min_temp_C                          -0.33                  -0.26\n",
            "Min_Max_temp_C                          -0.37                  -0.30\n",
            "Fencing_Sales                           -0.17                  -0.22\n",
            "                       Min_Min_temp_C Ave_Min_temp_C Max_Min_temp_C\n",
            "Min_High_wind_gust_mph          -0.05          -0.08          -0.07\n",
            "Ave_High_wind_gust_mph          -0.24          -0.25          -0.21\n",
            "Max_High_wind_gust_mph          -0.32          -0.32          -0.27\n",
            "Sum_High_wind_gust_mph          -0.25          -0.26          -0.22\n",
            "Min_Min_temp_C                   1.00           0.97           0.88\n",
            "Ave_Min_temp_C                   0.97           1.00           0.96\n",
            "Max_Min_temp_C                   0.88           0.96           1.00\n",
            "Sum_Min_temp_C                   0.96           1.00           0.95\n",
            "Min_Max_temp_C                   0.92           0.92           0.87\n",
            "Fencing_Sales                    0.27           0.24           0.24\n",
            "                       Sum_Min_temp_C Min_Max_temp_C Fencing_Sales\n",
            "Min_High_wind_gust_mph          -0.08          -0.09         -0.14\n",
            "Ave_High_wind_gust_mph          -0.26          -0.29         -0.22\n",
            "Max_High_wind_gust_mph          -0.33          -0.37         -0.17\n",
            "Sum_High_wind_gust_mph          -0.26          -0.30         -0.22\n",
            "Min_Min_temp_C                   0.96           0.92          0.27\n",
            "Ave_Min_temp_C                   1.00           0.92          0.24\n",
            "Max_Min_temp_C                   0.95           0.87          0.24\n",
            "Sum_Min_temp_C                   1.00           0.92          0.23\n",
            "Min_Max_temp_C                   0.92           1.00          0.36\n",
            "Fencing_Sales                    0.23           0.36          1.00\n"
          ]
        }
      ]
    },
    {
      "cell_type": "markdown",
      "source": [
        "ASIDE: The outputs above is hard to read, so I found a way to tidy the display of the output ([Source](http://rpy2.github.io/doc/v3.4.x/html/generated_rst/notebooks.html))"
      ],
      "metadata": {
        "id": "kKS9Y5f641VD"
      }
    },
    {
      "cell_type": "code",
      "source": [
        "# rpy2 provides customization to display R objects such as data frames in HTML in a notebook\n",
        "import rpy2.ipython.html\n",
        "rpy2.ipython.html.init_printing()"
      ],
      "metadata": {
        "id": "pwno0fcV3Lkp"
      },
      "execution_count": 54,
      "outputs": []
    },
    {
      "cell_type": "code",
      "source": [
        "dataf = utils.read_csv('/content/Lin_Reg_Fencing_Sales_vs_Weather.csv')"
      ],
      "metadata": {
        "id": "qtynj7AD3PRF"
      },
      "execution_count": 55,
      "outputs": []
    },
    {
      "cell_type": "code",
      "source": [
        "dataf"
      ],
      "metadata": {
        "colab": {
          "base_uri": "https://localhost:8080/",
          "height": 293
        },
        "id": "OsRQhhqayE9J",
        "outputId": "1676501f-13d9-4a26-e68f-fbab30a1f5b4"
      },
      "execution_count": 56,
      "outputs": [
        {
          "output_type": "execute_result",
          "data": {
            "text/plain": [
              "<rpy2.robjects.vectors.DataFrame object at 0x7f8e9d1acfa0> [RTYPES.VECSXP]\n",
              "R classes: ('data.frame',)\n",
              "[StrSexpVe..., FloatSexp..., FloatSexp..., FloatSexp..., ..., FloatSexp..., FloatSexp..., FloatSexp..., FloatSexp...]\n",
              "  Week_Commencing: <class 'rpy2.robjects.vectors.StrVector'>\n",
              "  <rpy2.robjects.vectors.StrVector object at 0x7f8eaff27fa0> [RTYPES.STRSXP]\n",
              "R classes: ('character',)\n",
              "['01/01/20..., '08/01/20..., '15/01/20..., '22/01/20..., ..., '04/04/20..., '11/04/20..., '18/04/20..., '25/04/20...]\n",
              "  Min_High_wind_gust_mph: <class 'rpy2.robjects.vectors.FloatVector'>\n",
              "  <rpy2.robjects.vectors.FloatVector object at 0x7f8e983591e0> [RTYPES.REALSXP]\n",
              "R classes: ('numeric',)\n",
              "[27.100000, 11.400000, 9.600000, 23.900000, ..., 14.300000, 5.600000, 14.300000, 5.100000]\n",
              "  Ave_High_wind_gust_mph: <class 'rpy2.robjects.vectors.FloatVector'>\n",
              "  <rpy2.robjects.vectors.FloatVector object at 0x7f8eaff274b0> [RTYPES.REALSXP]\n",
              "R classes: ('numeric',)\n",
              "[38.330000, 18.100000, 30.000000, 31.100000, ..., 26.790000, 11.810000, 20.790000, 11.530000]\n",
              "  Max_High_wind_gust_mph: <class 'rpy2.robjects.vectors.FloatVector'>\n",
              "  <rpy2.robjects.vectors.FloatVector object at 0x7f8e9836d8c0> [RTYPES.REALSXP]\n",
              "R classes: ('numeric',)\n",
              "[49.000000, 33.800000, 62.000000, 42.300000, ..., 47.900000, 21.700000, 26.800000, 14.300000]\n",
              "...\n",
              "  Min_Min_temp_C: <class 'rpy2.robjects.vectors.FloatVector'>\n",
              "  <rpy2.robjects.vectors.FloatVector object at 0x7f8e98335190> [RTYPES.REALSXP]\n",
              "R classes: ('numeric',)\n",
              "[1.740000, 0.070000, 3.670000, 2.090000, ..., 4.040000, 5.130000, 4.740000, 3.620000]\n",
              "  Ave_Min_temp_C: <class 'rpy2.robjects.vectors.FloatVector'>\n",
              "  <rpy2.robjects.vectors.FloatVector object at 0x7f8e9d1d7190> [RTYPES.REALSXP]\n",
              "R classes: ('numeric',)\n",
              "[7.800000, 0.500000, 7.300000, 6.200000, ..., 8.200000, 12.400000, 12.900000, 10.700000]\n",
              "  Max_Min_temp_C: <class 'rpy2.robjects.vectors.FloatVector'>\n",
              "  <rpy2.robjects.vectors.FloatVector object at 0x7f8e90c478c0> [RTYPES.REALSXP]\n",
              "R classes: ('numeric',)\n",
              "[12.200000, 0.500000, 25.700000, 14.600000, ..., 28.300000, 35.900000, 33.200000, 21.700000]\n",
              "  Sum_Min_temp_C: <class 'rpy2.robjects.vectors.FloatVector'>\n",
              "  <rpy2.robjects.vectors.FloatVector object at 0x7f8eaff5c9b0> [RTYPES.REALSXP]\n",
              "R classes: ('numeric',)\n",
              "[4457.670000, 7254.430000, 11405.810000, 9439.660000, ..., 28554.390000, 36412.450000, 32944.740000, 39153.270000]"
            ],
            "text/html": [
              "\n",
              "<emph>DataFrame</emph> with 214 rows and\n",
              "  34 columns:\n",
              "<table class=\"docutils\">\n",
              "  <thead>\n",
              "    <tr class=\"rpy2_names\">\n",
              "      <th></th>\n",
              "      <th></th>\n",
              "      <th>Week_Commencing</th>\n",
              "      <th>Min_High_wind_gust_mph</th>\n",
              "      <th>Ave_High_wind_gust_mph</th>\n",
              "      <th>Max_High_wind_gust_mph</th>\n",
              "      <th>...</th>\n",
              "      <th>Sum_Total_sunshine_hrs</th>\n",
              "      <th>Fencing_Sales</th>\n",
              "    </tr>\n",
              "  </thead>\n",
              "  <tbody>\n",
              "    <tr>\n",
              "      <td class=\"rpy2_rowname\">0</td>\n",
              "        <td class=\"rpy2_names\">1</td>\n",
              "      <td>01/01/2018</td>\n",
              "      <td>27.1</td>\n",
              "      <td>38.33</td>\n",
              "      <td>49.0</td>\n",
              "       <td>...</td>\n",
              "      <td>12.2</td>\n",
              "      <td>4457.67</td>\n",
              "    </tr>\n",
              "    <tr>\n",
              "      <td class=\"rpy2_rowname\">1</td>\n",
              "        <td class=\"rpy2_names\">2</td>\n",
              "      <td>08/01/2018</td>\n",
              "      <td>11.4</td>\n",
              "      <td>18.1</td>\n",
              "      <td>33.8</td>\n",
              "       <td>...</td>\n",
              "      <td>0.5</td>\n",
              "      <td>7254.43</td>\n",
              "    </tr>\n",
              "    <tr>\n",
              "      <td class=\"rpy2_rowname\">2</td>\n",
              "        <td class=\"rpy2_names\">3</td>\n",
              "      <td>15/01/2018</td>\n",
              "      <td>9.6</td>\n",
              "      <td>30.0</td>\n",
              "      <td>62.0</td>\n",
              "       <td>...</td>\n",
              "      <td>25.7</td>\n",
              "      <td>11405.81</td>\n",
              "    </tr>\n",
              "    <tr>\n",
              "      <td class=\"rpy2_rowname\">3</td>\n",
              "        <td class=\"rpy2_names\">4</td>\n",
              "      <td>22/01/2018</td>\n",
              "      <td>23.9</td>\n",
              "      <td>31.1</td>\n",
              "      <td>42.3</td>\n",
              "       <td>...</td>\n",
              "      <td>14.6</td>\n",
              "      <td>9439.66</td>\n",
              "    </tr>\n",
              "    <tr>\n",
              "      <td class=\"rpy2_rowname\">4</td>\n",
              "        <td class=\"rpy2_names\">5</td>\n",
              "      <td>29/01/2018</td>\n",
              "      <td>19.0</td>\n",
              "      <td>28.96</td>\n",
              "      <td>34.0</td>\n",
              "       <td>...</td>\n",
              "      <td>17.8</td>\n",
              "      <td>16618.45</td>\n",
              "    </tr>\n",
              "    <tr>\n",
              "      <td class=\"rpy2_rowname\">5</td>\n",
              "        <td class=\"rpy2_names\">6</td>\n",
              "      <td>05/02/2018</td>\n",
              "      <td>15.0</td>\n",
              "      <td>29.14</td>\n",
              "      <td>45.6</td>\n",
              "       <td>...</td>\n",
              "      <td>22.2</td>\n",
              "      <td>12222.69</td>\n",
              "    </tr>\n",
              "    <tr>\n",
              "      <td class=\"rpy2_rowname\">6</td>\n",
              "        <td class=\"rpy2_names\">7</td>\n",
              "      <td>12/02/2018</td>\n",
              "      <td>13.0</td>\n",
              "      <td>24.97</td>\n",
              "      <td>33.8</td>\n",
              "       <td>...</td>\n",
              "      <td>22.5</td>\n",
              "      <td>9608.98</td>\n",
              "    </tr>\n",
              "    <tr>\n",
              "      <td class=\"rpy2_rowname\">7</td>\n",
              "        <td class=\"rpy2_names\">8</td>\n",
              "      <td>19/02/2018</td>\n",
              "      <td>14.8</td>\n",
              "      <td>24.07</td>\n",
              "      <td>37.4</td>\n",
              "       <td>...</td>\n",
              "      <td>25.7</td>\n",
              "      <td>12226.61</td>\n",
              "    </tr>\n",
              "    <tr>\n",
              "      <td class=\"rpy2_rowname\">...</td>\n",
              "        <td class=\"rpy2_names\">...</td>\n",
              "      <td>...</td>\n",
              "      <td>...</td>\n",
              "      <td>...</td>\n",
              "      <td>...</td>\n",
              "       <td>...</td>\n",
              "      <td>...</td>\n",
              "      <td>...</td>\n",
              "    </tr>\n",
              "    <tr>\n",
              "      <td class=\"rpy2_rowname\">212</td>\n",
              "        <td class=\"rpy2_names\">213</td>\n",
              "      <td>18/04/2022</td>\n",
              "      <td>14.3</td>\n",
              "      <td>20.79</td>\n",
              "      <td>26.8</td>\n",
              "       <td>...</td>\n",
              "      <td>33.2</td>\n",
              "      <td>32944.74</td>\n",
              "    </tr>\n",
              "    <tr>\n",
              "      <td class=\"rpy2_rowname\">213</td>\n",
              "        <td class=\"rpy2_names\">214</td>\n",
              "      <td>25/04/2022</td>\n",
              "      <td>5.1</td>\n",
              "      <td>11.53</td>\n",
              "      <td>14.3</td>\n",
              "       <td>...</td>\n",
              "      <td>21.7</td>\n",
              "      <td>39153.27</td>\n",
              "    </tr>\n",
              "  </tbody>\n",
              "</table>"
            ]
          },
          "metadata": {},
          "execution_count": 56
        }
      ]
    },
    {
      "cell_type": "markdown",
      "source": [
        "# Creating Graphs in R"
      ],
      "metadata": {
        "id": "9zn244dDqFgX"
      }
    },
    {
      "cell_type": "markdown",
      "source": [
        "I wanted to create graphs using R, but it is not a simple task. This is what I found: \n",
        "\n",
        "\"*ggplot2* is one of most popular R visulization packages, and Python users have started various projects to try port it to Python. For now, the best way to have *ggplot2* might be to use *ggplot2* from Python.\""
      ],
      "metadata": {
        "id": "GFKdP4sG4DUy"
      }
    },
    {
      "cell_type": "code",
      "source": [
        "%%R\n",
        "install.packages('lazyeval')"
      ],
      "metadata": {
        "colab": {
          "base_uri": "https://localhost:8080/"
        },
        "id": "2R2jcbuAye-t",
        "outputId": "a73dc8d5-bd5e-41f2-966e-fa028b473ed8"
      },
      "execution_count": 57,
      "outputs": [
        {
          "output_type": "stream",
          "name": "stderr",
          "text": [
            "R[write to console]: Installing package into ‘/usr/local/lib/R/site-library’\n",
            "(as ‘lib’ is unspecified)\n",
            "\n",
            "R[write to console]: trying URL 'https://cran.rstudio.com/src/contrib/lazyeval_0.2.2.tar.gz'\n",
            "\n",
            "R[write to console]: Content type 'application/x-gzip'\n",
            "R[write to console]:  length 83482 bytes (81 KB)\n",
            "\n",
            "R[write to console]: =\n",
            "R[write to console]: =\n",
            "R[write to console]: =\n",
            "R[write to console]: =\n",
            "R[write to console]: =\n",
            "R[write to console]: =\n",
            "R[write to console]: =\n",
            "R[write to console]: =\n",
            "R[write to console]: =\n",
            "R[write to console]: =\n",
            "R[write to console]: =\n",
            "R[write to console]: =\n",
            "R[write to console]: =\n",
            "R[write to console]: =\n",
            "R[write to console]: =\n",
            "R[write to console]: =\n",
            "R[write to console]: =\n",
            "R[write to console]: =\n",
            "R[write to console]: =\n",
            "R[write to console]: =\n",
            "R[write to console]: =\n",
            "R[write to console]: =\n",
            "R[write to console]: =\n",
            "R[write to console]: =\n",
            "R[write to console]: =\n",
            "R[write to console]: =\n",
            "R[write to console]: =\n",
            "R[write to console]: =\n",
            "R[write to console]: =\n",
            "R[write to console]: =\n",
            "R[write to console]: =\n",
            "R[write to console]: =\n",
            "R[write to console]: =\n",
            "R[write to console]: =\n",
            "R[write to console]: =\n",
            "R[write to console]: =\n",
            "R[write to console]: =\n",
            "R[write to console]: =\n",
            "R[write to console]: =\n",
            "R[write to console]: =\n",
            "R[write to console]: =\n",
            "R[write to console]: =\n",
            "R[write to console]: =\n",
            "R[write to console]: =\n",
            "R[write to console]: =\n",
            "R[write to console]: =\n",
            "R[write to console]: =\n",
            "R[write to console]: =\n",
            "R[write to console]: =\n",
            "R[write to console]: =\n",
            "R[write to console]: \n",
            "\n",
            "R[write to console]: downloaded 81 KB\n",
            "\n",
            "\n",
            "R[write to console]: \n",
            "\n",
            "R[write to console]: \n",
            "R[write to console]: The downloaded source packages are in\n",
            "\t‘/tmp/RtmpEPeaG1/downloaded_packages’\n",
            "R[write to console]: \n",
            "R[write to console]: \n",
            "\n"
          ]
        }
      ]
    },
    {
      "cell_type": "code",
      "source": [
        "import rpy2.robjects.lib.ggplot2 as gp"
      ],
      "metadata": {
        "id": "x-9MJ27HsTjS"
      },
      "execution_count": 58,
      "outputs": []
    },
    {
      "cell_type": "code",
      "source": [
        "from rpy2.robjects import rl\n",
        "from rpy2.robjects.conversion import localconverter as lc"
      ],
      "metadata": {
        "id": "9DCIvj4Js2N0"
      },
      "execution_count": 59,
      "outputs": []
    },
    {
      "cell_type": "code",
      "source": [
        "# Calling ggplot2 in Python is almost same as in R\n",
        "\n",
        "#step 1: create a R/ggplot2 object\n",
        "p = (gp.ggplot(dataf) +\n",
        "     gp.aes(x=rl('Sum_Total_sunshine_hrs'),\n",
        "            y=rl('Fencing_Sales')) +\n",
        "     gp.geom_point())"
      ],
      "metadata": {
        "id": "9jlp90IjqCfL"
      },
      "execution_count": 60,
      "outputs": []
    },
    {
      "cell_type": "code",
      "source": [
        "# step2: plott the R/ggplot2 object\n",
        "from rpy2.ipython.ggplot import image_png\n",
        "image_png(p)"
      ],
      "metadata": {
        "colab": {
          "base_uri": "https://localhost:8080/",
          "height": 417
        },
        "id": "KbbnLKAE6uv_",
        "outputId": "c5079e5d-be88-480b-f56a-41b521816d77"
      },
      "execution_count": 61,
      "outputs": [
        {
          "output_type": "execute_result",
          "data": {
            "text/plain": [
              "<IPython.core.display.Image object>"
            ],
            "image/png": "[encoded data removed]"
          },
          "metadata": {},
          "execution_count": 61
        }
      ]
    },
    {
      "cell_type": "code",
      "source": [
        "# A boxlot in R\n",
        "boxp = (gp.ggplot(dataf) +\n",
        "     gp.aes(x=rl('Sum_Total_sunshine_hrs'),\n",
        "            y=rl('Fencing_Sales')) +\n",
        "     gp.geom_boxplot())"
      ],
      "metadata": {
        "id": "RbogBpCu8Q3h"
      },
      "execution_count": 62,
      "outputs": []
    },
    {
      "cell_type": "code",
      "source": [
        "image_png(boxp)"
      ],
      "metadata": {
        "colab": {
          "base_uri": "https://localhost:8080/",
          "height": 417
        },
        "id": "kiqWTTzeGml4",
        "outputId": "45ff0a75-79d8-4f96-b592-22e27b7e9d6d"
      },
      "execution_count": 63,
      "outputs": [
        {
          "output_type": "execute_result",
          "data": {
            "text/plain": [
              "<IPython.core.display.Image object>"
            ],
            "image/png": "[encoded data removed]"
          },
          "metadata": {},
          "execution_count": 63
        }
      ]
    },
    {
      "cell_type": "markdown",
      "source": [
        "# Creating Graphs in Python"
      ],
      "metadata": {
        "id": "kIl00SBm7BQW"
      }
    },
    {
      "cell_type": "code",
      "source": [
        "import pandas as pd\n",
        "import matplotlib.pyplot as plt\n",
        "import seaborn as sns\n",
        "plt.style.use('seaborn')\n",
        "\n",
        "%matplotlib inline"
      ],
      "metadata": {
        "id": "d_PL9xNu7LG3"
      },
      "execution_count": 64,
      "outputs": []
    },
    {
      "cell_type": "code",
      "source": [
        "# Read in Data in Python\n",
        "sales_py = pd.read_csv('/content/Lin_Reg_Fencing_Sales_vs_Weather.csv')"
      ],
      "metadata": {
        "id": "YQYXrIVS7ulj"
      },
      "execution_count": 65,
      "outputs": []
    },
    {
      "cell_type": "code",
      "source": [
        "fig, ax = plt.subplots(figsize=(14, 6))\n",
        "ax.scatter(x = sales_py['Sum_Total_sunshine_hrs'], y = sales_py['Fencing_Sales'])\n",
        "plt.xlabel(\"Sunshine Hours\")\n",
        "plt.ylabel(\"Fencing Sales (£)\")\n",
        "plt.show()"
      ],
      "metadata": {
        "colab": {
          "base_uri": "https://localhost:8080/",
          "height": 388
        },
        "id": "emuvwPVw6_1C",
        "outputId": "23e0a297-fac5-4d25-fba2-eae6c0f6b50c"
      },
      "execution_count": 66,
      "outputs": [
        {
          "output_type": "display_data",
          "data": {
            "text/plain": [
              "<Figure size 1008x432 with 1 Axes>"
            ],
            "image/png": "[encoded data removed]"
          },
          "metadata": {
            "needs_background": "light"
          }
        }
      ]
    },
    {
      "cell_type": "code",
      "source": [
        "sales_py_box = sales_py[['Sum_Total_sunshine_hrs']]\n",
        "\n",
        "sales_py_box.plot(kind = 'box');"
      ],
      "metadata": {
        "colab": {
          "base_uri": "https://localhost:8080/",
          "height": 265
        },
        "id": "EqkBkrOGG6OB",
        "outputId": "983ed476-5eb5-4ef8-8a60-8078a1d05efd"
      },
      "execution_count": 67,
      "outputs": [
        {
          "output_type": "display_data",
          "data": {
            "text/plain": [
              "<Figure size 432x288 with 1 Axes>"
            ],
            "image/png": "[encoded data removed]"
          },
          "metadata": {
            "needs_background": "light"
          }
        }
      ]
    },
    {
      "cell_type": "markdown",
      "source": [
        "# Simple Linear Regression in R\n",
        "\n",
        "Here the main objective is to replicate the linear regression models from Python for comparison, therefore I chose the same variables as before. "
      ],
      "metadata": {
        "id": "35HrLzLGJ9Gd"
      }
    },
    {
      "cell_type": "code",
      "source": [
        "# check correlation is \n",
        "%%R \n",
        "cor(sales$Fencing_Sales, sales$Max_Total_sunshine_hrs)"
      ],
      "metadata": {
        "colab": {
          "base_uri": "https://localhost:8080/"
        },
        "id": "RkTV1RPOKA-q",
        "outputId": "07aeeb97-2e41-4689-c75f-e180fe15ce0f"
      },
      "execution_count": 70,
      "outputs": [
        {
          "output_type": "stream",
          "name": "stdout",
          "text": [
            "[1] 0.401462\n"
          ]
        }
      ]
    },
    {
      "cell_type": "code",
      "source": [
        "# create a linear model\n",
        "%%R\n",
        "myRmodel <- lm(Fencing_Sales ~ Max_Total_sunshine_hrs, data = sales)"
      ],
      "metadata": {
        "id": "cnuEVmnjdBhp"
      },
      "execution_count": 71,
      "outputs": []
    },
    {
      "cell_type": "code",
      "source": [
        "# Describe the model\n",
        "%%R \n",
        "summary(myRmodel)"
      ],
      "metadata": {
        "colab": {
          "base_uri": "https://localhost:8080/"
        },
        "id": "vvrBThpMdPzN",
        "outputId": "bd03e397-3af0-4c62-f6d8-b8f1ed9fd1c4"
      },
      "execution_count": 72,
      "outputs": [
        {
          "output_type": "stream",
          "name": "stdout",
          "text": [
            "\n",
            "Call:\n",
            "lm(formula = Fencing_Sales ~ Max_Total_sunshine_hrs, data = sales)\n",
            "\n",
            "Residuals:\n",
            "   Min     1Q Median     3Q    Max \n",
            "-15961  -5570  -1357   4259  29214 \n",
            "\n",
            "Coefficients:\n",
            "                       Estimate Std. Error t value Pr(>|t|)    \n",
            "(Intercept)              9914.2     1265.5   7.834 2.24e-13 ***\n",
            "Max_Total_sunshine_hrs    832.2      130.4   6.382 1.08e-09 ***\n",
            "---\n",
            "Signif. codes:  0 ‘***’ 0.001 ‘**’ 0.01 ‘*’ 0.05 ‘.’ 0.1 ‘ ’ 1\n",
            "\n",
            "Residual standard error: 7812 on 212 degrees of freedom\n",
            "Multiple R-squared:  0.1612,\tAdjusted R-squared:  0.1572 \n",
            "F-statistic: 40.73 on 1 and 212 DF,  p-value: 1.081e-09\n",
            "\n"
          ]
        }
      ]
    },
    {
      "cell_type": "code",
      "source": [
        "# plotting the line of best fit\n",
        "r_linreg_plot = (gp.ggplot(dataf) + \n",
        "                 gp.aes(x = rl('Max_Total_sunshine_hrs'), y = rl('Fencing_Sales') ) + \n",
        "                 gp.geom_point() + \n",
        "                 gp.geom_smooth(method = 'lm')) # it is a good idea to plot this "
      ],
      "metadata": {
        "id": "RwGcozvKda-z"
      },
      "execution_count": 74,
      "outputs": []
    },
    {
      "cell_type": "code",
      "source": [
        "image_png(r_linreg_plot)"
      ],
      "metadata": {
        "colab": {
          "base_uri": "https://localhost:8080/",
          "height": 452
        },
        "id": "r-gilESTfWdb",
        "outputId": "700d907d-3cda-4876-fde8-b9673742e9b9"
      },
      "execution_count": null,
      "outputs": [
        {
          "output_type": "stream",
          "name": "stderr",
          "text": [
            "R[write to console]: `geom_smooth()` using formula 'y ~ x'\n",
            "\n"
          ]
        },
        {
          "output_type": "execute_result",
          "data": {
            "text/plain": [
              "<IPython.core.display.Image object>"
            ],
            "image/png": "[encoded data removed]"
          },
          "metadata": {},
          "execution_count": 125
        }
      ]
    },
    {
      "cell_type": "code",
      "source": [
        "# function to make a specific prediction y = mx + c\n",
        "%%R\n",
        "y_pred <- function(x){\n",
        "  return( x * 832.2  + 9914.2)\n",
        "}"
      ],
      "metadata": {
        "id": "yN-NMSRJfudf"
      },
      "execution_count": 75,
      "outputs": []
    },
    {
      "cell_type": "code",
      "source": [
        "#predict values\n",
        "%%R\n",
        "y_pred(2)"
      ],
      "metadata": {
        "colab": {
          "base_uri": "https://localhost:8080/"
        },
        "id": "RTeU6CS4f8IB",
        "outputId": "9dd79af3-915a-43a6-cbcb-c98d283ced62"
      },
      "execution_count": 77,
      "outputs": [
        {
          "output_type": "stream",
          "name": "stdout",
          "text": [
            "[1] 11578.6\n"
          ]
        }
      ]
    },
    {
      "cell_type": "markdown",
      "source": [
        "The simple linear regression model"
      ],
      "metadata": {
        "id": "7yn4HqI63ftd"
      }
    },
    {
      "cell_type": "markdown",
      "source": [
        "# Multiple Linear Regression in R"
      ],
      "metadata": {
        "id": "Acw0y4OHkA1-"
      }
    },
    {
      "cell_type": "code",
      "source": [
        "# checking correlations between other features\n",
        "%%R \n",
        "cor(sales$Fencing_Sales, sales$Min_Max_temp_C)"
      ],
      "metadata": {
        "colab": {
          "base_uri": "https://localhost:8080/"
        },
        "id": "m-xVGWG6gRWs",
        "outputId": "6cdbd037-5762-4383-c70d-39d5faf73464"
      },
      "execution_count": 78,
      "outputs": [
        {
          "output_type": "stream",
          "name": "stdout",
          "text": [
            "[1] 0.3553098\n"
          ]
        }
      ]
    },
    {
      "cell_type": "code",
      "source": [
        "%%R \n",
        "cor(sales$Fencing_Sales, sales$Ave_High_avg_wind_speed_mph)"
      ],
      "metadata": {
        "colab": {
          "base_uri": "https://localhost:8080/"
        },
        "id": "oEG5wDQPgbH6",
        "outputId": "bb3a20ad-a89a-4c52-98b2-34d163a62c8a"
      },
      "execution_count": 79,
      "outputs": [
        {
          "output_type": "stream",
          "name": "stdout",
          "text": [
            "[1] -0.3265406\n"
          ]
        }
      ]
    },
    {
      "cell_type": "code",
      "source": [
        "# Multiple regression\n",
        "%%R\n",
        "multimodel <- lm(Fencing_Sales ~ Max_Total_sunshine_hrs + Min_Max_temp_C + Ave_High_avg_wind_speed_mph, data = sales)"
      ],
      "metadata": {
        "id": "K_97lBJdgryq"
      },
      "execution_count": 80,
      "outputs": []
    },
    {
      "cell_type": "code",
      "source": [
        "%%R\n",
        "summary(multimodel)"
      ],
      "metadata": {
        "colab": {
          "base_uri": "https://localhost:8080/"
        },
        "id": "nbyEzh0mgu_i",
        "outputId": "b8f250c3-96d0-45c0-b1d4-b257b384a3b5"
      },
      "execution_count": 81,
      "outputs": [
        {
          "output_type": "stream",
          "name": "stdout",
          "text": [
            "\n",
            "Call:\n",
            "lm(formula = Fencing_Sales ~ Max_Total_sunshine_hrs + Min_Max_temp_C + \n",
            "    Ave_High_avg_wind_speed_mph, data = sales)\n",
            "\n",
            "Residuals:\n",
            "   Min     1Q Median     3Q    Max \n",
            "-16635  -4997  -1386   3898  29307 \n",
            "\n",
            "Coefficients:\n",
            "                            Estimate Std. Error t value Pr(>|t|)    \n",
            "(Intercept)                  14357.6     2235.5   6.423 8.81e-10 ***\n",
            "Max_Total_sunshine_hrs         620.1      151.5   4.093 6.08e-05 ***\n",
            "Min_Max_temp_C                 137.3      117.3   1.171    0.243    \n",
            "Ave_High_avg_wind_speed_mph   -438.1      140.0  -3.129    0.002 ** \n",
            "---\n",
            "Signif. codes:  0 ‘***’ 0.001 ‘**’ 0.01 ‘*’ 0.05 ‘.’ 0.1 ‘ ’ 1\n",
            "\n",
            "Residual standard error: 7555 on 210 degrees of freedom\n",
            "Multiple R-squared:  0.2229,\tAdjusted R-squared:  0.2118 \n",
            "F-statistic: 20.08 on 3 and 210 DF,  p-value: 1.766e-11\n",
            "\n"
          ]
        }
      ]
    },
    {
      "cell_type": "markdown",
      "source": [
        "# LinReg Model Output Comparisons R vs Python\n",
        "\n",
        "## Simple LinReg\n",
        "\n",
        "Simple LinReg equation in R: Fencing_Sales = £9,914 + £832 * Max_Total_sunshine_hrs with R2 = 16%\n",
        "\n",
        "Simple LinReg equation in Python: Fencing_Sales = £10,368 + £782 * Max_Total_sunshine_hrs with R2 = 13% \n",
        "\n",
        "The coefficients are slightly different because I used train/test split in Python and not in R, but overall the models are very similar.\n",
        "\n",
        "\n",
        "\n",
        "## Multi LinReg\n",
        "\n",
        "Multiple LinReg equation in R:\n",
        "Fencing_Sales = £14,358 + £620 * Max_Total_sunshine_hrs - £438 * Ave_High_avg_wind_speed_mph with adjusted R2 = 21%\n",
        "\n",
        "Multiple LinReg equation in Python:\n",
        "Fencing_Sales = £14,360 + £620 * Max_Total_sunshine_hrs - £438 * Ave_High_avg_wind_speed_mph + error with R2 = 21%\n",
        "\n",
        "Models are practically identical."
      ],
      "metadata": {
        "id": "TlkUyKN6kOWm"
      }
    }
  ]
}